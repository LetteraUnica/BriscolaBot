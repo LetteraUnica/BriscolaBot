{
 "cells": [
  {
   "cell_type": "code",
   "execution_count": 9,
   "outputs": [
    {
     "name": "stdout",
     "output_type": "stream",
     "text": [
      "[8B, 5B, 10D, 6C, 5S, 2C, 1C, 9D, 6S, 7B, 3S, 4B, 1S, 10C, 9C, 9B, 10B, 7S, 7D, 1D, 2S, 2D, 10S, 8D, 3D, 4C, 3C, 2B, 5C, 5D, 1B, 4S, 8S, 6D]\n",
      "[0, 0] [1, 0] [[7C, 8C, 9S], [6B, 3B, 4D]]\n",
      "3B 9S 3\n",
      "0 13\n",
      "[0, 13] [1, 0] [[7C, 8C, 8S], [6B, 4D, 6D]]\n"
     ]
    }
   ],
   "source": [
    "from src.env.briscola.TwoPlayerBriscola import TwoPlayerBriscola\n",
    "from src.env.briscola.BriscolaState import BriscolaState\n",
    "\n",
    "env = TwoPlayerBriscola()\n",
    "\n",
    "print(env.state.deck)\n",
    "\n",
    "print(env.state.player_points, env.state.player_order, env.state.player_cards)\n",
    "env.step(1)\n",
    "env.step(2)\n",
    "print(env.state.player_points, env.state.player_order, env.state.player_cards)"
   ],
   "metadata": {
    "collapsed": false
   }
  },
  {
   "cell_type": "code",
   "execution_count": 8,
   "outputs": [
    {
     "data": {
      "text/plain": "(0, 0)"
     },
     "execution_count": 8,
     "metadata": {},
     "output_type": "execute_result"
    }
   ],
   "source": [
    "from src.env.briscola.Card import Card\n",
    "\n",
    "p1_card, p2_card = Card(34), Card(31)\n",
    "\n",
    "env.get_score(p1_card, p2_card)"
   ],
   "metadata": {
    "collapsed": false
   }
  },
  {
   "cell_type": "code",
   "execution_count": 24,
   "outputs": [
    {
     "data": {
      "text/plain": "2"
     },
     "execution_count": 24,
     "metadata": {},
     "output_type": "execute_result"
    }
   ],
   "source": [
    "from src.env.briscola.utils import get_rank\n",
    "\n",
    "Card(3).get_priority()"
   ],
   "metadata": {
    "collapsed": false
   }
  }
 ],
 "metadata": {
  "kernelspec": {
   "display_name": "Python 3",
   "language": "python",
   "name": "python3"
  },
  "language_info": {
   "codemirror_mode": {
    "name": "ipython",
    "version": 2
   },
   "file_extension": ".py",
   "mimetype": "text/x-python",
   "name": "python",
   "nbconvert_exporter": "python",
   "pygments_lexer": "ipython2",
   "version": "2.7.6"
  }
 },
 "nbformat": 4,
 "nbformat_minor": 0
}
