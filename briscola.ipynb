{
 "cells": [
  {
   "cell_type": "code",
   "execution_count": 1,
   "outputs": [],
   "source": [
    "from src.env.two_player_briscola.Briscola import Briscola\n",
    "\n",
    "env = Briscola()"
   ],
   "metadata": {
    "collapsed": false
   }
  },
  {
   "cell_type": "code",
   "execution_count": 2,
   "outputs": [
    {
     "data": {
      "text/plain": "State(deck=[28, 30, 9, 32, 10, 34, 3, 19, 18, 22, 14, 23, 37, 38, 15, 4, 33, 17, 31, 8, 39, 24, 12, 27, 5, 13, 11, 2, 29, 1, 26, 35, 25, 16], seen_cards=[], hand_cards={'agent_0': [36, 20, 0], 'agent_1': [21, 6, 7]}, table_card=40, briscola_card=28, current_agent='agent_1', agent_points={'agent_0': 0, 'agent_1': 0})"
     },
     "execution_count": 2,
     "metadata": {},
     "output_type": "execute_result"
    }
   ],
   "source": [
    "env.state"
   ],
   "metadata": {
    "collapsed": false
   }
  },
  {
   "cell_type": "code",
   "execution_count": 3,
   "outputs": [
    {
     "name": "stdout",
     "output_type": "stream",
     "text": [
      "State(deck=[28, 30, 9, 32, 10, 34, 3, 19, 18, 22, 14, 23, 37, 38, 15, 4, 33, 17, 31, 8, 39, 24, 12, 27, 5, 13, 11, 2, 29, 1, 26, 35, 25, 16], seen_cards=[], hand_cards={'agent_0': [36, 20, 0], 'agent_1': [6, 7]}, table_card=21, briscola_card=28, current_agent='agent_0', agent_points={'agent_0': 0, 'agent_1': 0})\n"
     ]
    }
   ],
   "source": [
    "env.step(0)\n",
    "print(env.state)"
   ],
   "metadata": {
    "collapsed": false
   }
  },
  {
   "cell_type": "code",
   "execution_count": 8,
   "outputs": [
    {
     "data": {
      "text/plain": "State(deck=[5, 9, 30, 27, 33, 20, 36, 17, 12, 39, 0, 6, 19, 28, 16, 11, 15, 2, 24, 10, 7, 37, 26, 38, 35, 23], seen_cards=[25, 14, 34, 13, 8, 29, 22, 32], hand_cards={'agent_0': [18, 3, 21], 'agent_1': [31, 1, 4]}, table_card=40, briscola_card=5, current_agent='agent_0', agent_points={'agent_0': 27, 'agent_1': 0})"
     },
     "execution_count": 8,
     "metadata": {},
     "output_type": "execute_result"
    }
   ],
   "source": [
    "env.state"
   ],
   "metadata": {
    "collapsed": false
   }
  },
  {
   "cell_type": "code",
   "execution_count": 11,
   "outputs": [
    {
     "data": {
      "text/plain": "({'seen_cards': [0,\n   0,\n   0,\n   0,\n   0,\n   0,\n   0,\n   0,\n   1,\n   0,\n   0,\n   0,\n   0,\n   1,\n   1,\n   0,\n   0,\n   0,\n   0,\n   0,\n   0,\n   0,\n   1,\n   0,\n   0,\n   1,\n   0,\n   0,\n   0,\n   1,\n   0,\n   0,\n   1,\n   0,\n   1,\n   0,\n   0,\n   0,\n   0,\n   0],\n  'briscola_card': 5,\n  'table_card': 40,\n  'hand_cards': [18, 3, 21],\n  'agent_points': [27, 0]},\n 27,\n False,\n 0,\n {})"
     },
     "execution_count": 11,
     "metadata": {},
     "output_type": "execute_result"
    }
   ],
   "source": [
    "env.last()"
   ],
   "metadata": {
    "collapsed": false
   }
  },
  {
   "cell_type": "code",
   "execution_count": 4,
   "outputs": [
    {
     "name": "stdout",
     "output_type": "stream",
     "text": [
      "Starting API test\n"
     ]
    },
    {
     "name": "stderr",
     "output_type": "stream",
     "text": [
      "C:\\Users\\loren\\anaconda3\\lib\\site-packages\\pettingzoo\\test\\api_test.py:60: UserWarning: Observation is not NumPy array\n",
      "  warnings.warn(\"Observation is not NumPy array\")\n",
      "C:\\Users\\loren\\anaconda3\\lib\\site-packages\\pettingzoo\\test\\api_test.py:81: UserWarning: Observation space for each agent probably should be gymnasium.spaces.box or gymnasium.spaces.discrete\n",
      "  warnings.warn(\n"
     ]
    },
    {
     "ename": "AssertionError",
     "evalue": "reward returned by last is not the accumulated rewards in its rewards dict",
     "output_type": "error",
     "traceback": [
      "\u001B[1;31m---------------------------------------------------------------------------\u001B[0m",
      "\u001B[1;31mAssertionError\u001B[0m                            Traceback (most recent call last)",
      "\u001B[1;32m~\\AppData\\Local\\Temp\\ipykernel_1924\\1860269525.py\u001B[0m in \u001B[0;36m<module>\u001B[1;34m\u001B[0m\n\u001B[0;32m      1\u001B[0m \u001B[1;32mfrom\u001B[0m \u001B[0mpettingzoo\u001B[0m\u001B[1;33m.\u001B[0m\u001B[0mtest\u001B[0m \u001B[1;32mimport\u001B[0m \u001B[0mapi_test\u001B[0m\u001B[1;33m\u001B[0m\u001B[1;33m\u001B[0m\u001B[0m\n\u001B[0;32m      2\u001B[0m \u001B[0menv\u001B[0m \u001B[1;33m=\u001B[0m \u001B[0mBriscola\u001B[0m\u001B[1;33m(\u001B[0m\u001B[1;33m)\u001B[0m\u001B[1;33m\u001B[0m\u001B[1;33m\u001B[0m\u001B[0m\n\u001B[1;32m----> 3\u001B[1;33m \u001B[0mapi_test\u001B[0m\u001B[1;33m(\u001B[0m\u001B[0menv\u001B[0m\u001B[1;33m,\u001B[0m \u001B[0mnum_cycles\u001B[0m\u001B[1;33m=\u001B[0m\u001B[1;36m1000\u001B[0m\u001B[1;33m,\u001B[0m \u001B[0mverbose_progress\u001B[0m\u001B[1;33m=\u001B[0m\u001B[1;32mFalse\u001B[0m\u001B[1;33m)\u001B[0m\u001B[1;33m\u001B[0m\u001B[1;33m\u001B[0m\u001B[0m\n\u001B[0m",
      "\u001B[1;32m~\\anaconda3\\lib\\site-packages\\pettingzoo\\test\\api_test.py\u001B[0m in \u001B[0;36mapi_test\u001B[1;34m(env, num_cycles, verbose_progress)\u001B[0m\n\u001B[0;32m    406\u001B[0m     \u001B[0mprogress_report\u001B[0m\u001B[1;33m(\u001B[0m\u001B[1;34m\"Finished test_observation_action_spaces\"\u001B[0m\u001B[1;33m)\u001B[0m\u001B[1;33m\u001B[0m\u001B[1;33m\u001B[0m\u001B[0m\n\u001B[0;32m    407\u001B[0m \u001B[1;33m\u001B[0m\u001B[0m\n\u001B[1;32m--> 408\u001B[1;33m     \u001B[0mplay_test\u001B[0m\u001B[1;33m(\u001B[0m\u001B[0menv\u001B[0m\u001B[1;33m,\u001B[0m \u001B[0mobservation_0\u001B[0m\u001B[1;33m,\u001B[0m \u001B[0mnum_cycles\u001B[0m\u001B[1;33m)\u001B[0m\u001B[1;33m\u001B[0m\u001B[1;33m\u001B[0m\u001B[0m\n\u001B[0m\u001B[0;32m    409\u001B[0m \u001B[1;33m\u001B[0m\u001B[0m\n\u001B[0;32m    410\u001B[0m     \u001B[0mprogress_report\u001B[0m\u001B[1;33m(\u001B[0m\u001B[1;34m\"Finished play test\"\u001B[0m\u001B[1;33m)\u001B[0m\u001B[1;33m\u001B[0m\u001B[1;33m\u001B[0m\u001B[0m\n",
      "\u001B[1;32m~\\anaconda3\\lib\\site-packages\\pettingzoo\\test\\api_test.py\u001B[0m in \u001B[0;36mplay_test\u001B[1;34m(env, observation_0, num_cycles)\u001B[0m\n\u001B[0;32m    261\u001B[0m             \u001B[0mhas_finished\u001B[0m\u001B[1;33m.\u001B[0m\u001B[0madd\u001B[0m\u001B[1;33m(\u001B[0m\u001B[0magent\u001B[0m\u001B[1;33m)\u001B[0m\u001B[1;33m\u001B[0m\u001B[1;33m\u001B[0m\u001B[0m\n\u001B[0;32m    262\u001B[0m \u001B[1;33m\u001B[0m\u001B[0m\n\u001B[1;32m--> 263\u001B[1;33m         assert (\n\u001B[0m\u001B[0;32m    264\u001B[0m             \u001B[0maccumulated_rewards\u001B[0m\u001B[1;33m[\u001B[0m\u001B[0magent\u001B[0m\u001B[1;33m]\u001B[0m \u001B[1;33m==\u001B[0m \u001B[0mreward\u001B[0m\u001B[1;33m\u001B[0m\u001B[1;33m\u001B[0m\u001B[0m\n\u001B[0;32m    265\u001B[0m         ), \"reward returned by last is not the accumulated rewards in its rewards dict\"\n",
      "\u001B[1;31mAssertionError\u001B[0m: reward returned by last is not the accumulated rewards in its rewards dict"
     ]
    }
   ],
   "source": [
    "from pettingzoo.test import api_test\n",
    "env = Briscola()\n",
    "api_test(env, num_cycles=1000, verbose_progress=False)"
   ],
   "metadata": {
    "collapsed": false
   }
  },
  {
   "cell_type": "code",
   "execution_count": 5,
   "outputs": [
    {
     "data": {
      "text/plain": "({'seen_cards': [0,\n   0,\n   0,\n   0,\n   0,\n   0,\n   0,\n   0,\n   0,\n   0,\n   0,\n   0,\n   0,\n   0,\n   0,\n   0,\n   0,\n   0,\n   0,\n   0,\n   0,\n   0,\n   0,\n   0,\n   0,\n   0,\n   0,\n   0,\n   0,\n   0,\n   0,\n   0,\n   0,\n   0,\n   0,\n   0,\n   0,\n   0,\n   0,\n   0],\n  'briscola_card': 17,\n  'table_card': 40,\n  'hand_cards': [11, 28, 37],\n  'agent_points': [16, 0]},\n 16,\n False,\n 0,\n {})"
     },
     "execution_count": 5,
     "metadata": {},
     "output_type": "execute_result"
    }
   ],
   "source": [
    "env.last()"
   ],
   "metadata": {
    "collapsed": false
   }
  },
  {
   "cell_type": "code",
   "execution_count": 9,
   "outputs": [
    {
     "data": {
      "text/plain": "{'agent_0': 6, 'agent_1': 0.0}"
     },
     "execution_count": 9,
     "metadata": {},
     "output_type": "execute_result"
    }
   ],
   "source": [],
   "metadata": {
    "collapsed": false
   }
  },
  {
   "cell_type": "code",
   "execution_count": 5,
   "outputs": [
    {
     "data": {
      "text/plain": "Dict('agent_points': MultiDiscrete([120 120]), 'briscola_card': Discrete(41), 'hand_cards': MultiDiscrete([40 40 40]), 'seen_cards': MultiBinary(40), 'table_card': Discrete(41))"
     },
     "execution_count": 5,
     "metadata": {},
     "output_type": "execute_result"
    }
   ],
   "source": [
    "env.observation_space(\"agent_0\")"
   ],
   "metadata": {
    "collapsed": false
   }
  },
  {
   "cell_type": "code",
   "execution_count": 10,
   "outputs": [
    {
     "data": {
      "text/plain": "False"
     },
     "execution_count": 10,
     "metadata": {},
     "output_type": "execute_result"
    }
   ],
   "source": [
    "from gymnasium.vector.utils import spaces\n",
    "space = spaces.Discrete(49)\n",
    "\n",
    "49 in space"
   ],
   "metadata": {
    "collapsed": false
   }
  },
  {
   "cell_type": "code",
   "execution_count": 5,
   "outputs": [
    {
     "name": "stdout",
     "output_type": "stream",
     "text": [
      "1.3564648628234863\n"
     ]
    }
   ],
   "source": [
    "from src.VectorizedBriscola import VectorizedBriscola\n",
    "from time import time\n",
    "\n",
    "start = time()\n",
    "vec_env = VectorizedBriscola(2048)\n",
    "for i in range(30):\n",
    "    a = vec_env.step([0]*2048)\n",
    "print(time() - start)"
   ],
   "metadata": {
    "collapsed": false
   }
  },
  {
   "cell_type": "code",
   "execution_count": null,
   "outputs": [],
   "source": [
    "p1_card, p2_card = Card(34), Card(31)\n",
    "\n",
    "env.get_score(p1_card, p2_card)"
   ],
   "metadata": {
    "collapsed": false
   }
  }
 ],
 "metadata": {
  "kernelspec": {
   "display_name": "Python 3",
   "language": "python",
   "name": "python3"
  },
  "language_info": {
   "codemirror_mode": {
    "name": "ipython",
    "version": 2
   },
   "file_extension": ".py",
   "mimetype": "text/x-python",
   "name": "python",
   "nbconvert_exporter": "python",
   "pygments_lexer": "ipython2",
   "version": "2.7.6"
  }
 },
 "nbformat": 4,
 "nbformat_minor": 0
}
