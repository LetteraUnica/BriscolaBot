{
 "cells": [
  {
   "cell_type": "code",
   "execution_count": 1,
   "outputs": [],
   "source": [
    "from src.briscola_env.two_player_briscola.Briscola import Briscola\n",
    "\n",
    "env = Briscola()"
   ],
   "metadata": {
    "collapsed": false
   }
  },
  {
   "cell_type": "code",
   "execution_count": 2,
   "outputs": [
    {
     "data": {
      "text/plain": "State(deck=[34, 23, 15, 5, 16, 10, 20, 8, 38, 6, 39, 0, 7, 30, 11, 22, 28, 36, 19, 24, 33, 4, 29, 3, 9, 1, 31, 18, 21, 26, 14, 27, 37, 13], seen_cards=[], hand_cards={'player_0': [17, 35, 2], 'player_1': [12, 32, 25]}, table_card=40, briscola_card=34, current_agent='player_1', agent_points={'player_0': 0, 'player_1': 0})"
     },
     "execution_count": 2,
     "metadata": {},
     "output_type": "execute_result"
    }
   ],
   "source": [
    "env.state"
   ],
   "metadata": {
    "collapsed": false
   }
  },
  {
   "cell_type": "code",
   "execution_count": 3,
   "outputs": [
    {
     "name": "stdout",
     "output_type": "stream",
     "text": [
      "State(deck=[34, 23, 15, 5, 16, 10, 20, 8, 38, 6, 39, 0, 7, 30, 11, 22, 28, 36, 19, 24, 33, 4, 29, 3, 9, 1, 31, 18, 21, 26, 14, 27, 37, 13], seen_cards=[], hand_cards={'player_0': [17, 35, 2], 'player_1': [32, 25]}, table_card=12, briscola_card=34, current_agent='player_0', agent_points={'player_0': 0, 'player_1': 0})\n"
     ]
    }
   ],
   "source": [
    "env.step(0)\n",
    "print(env.state)"
   ],
   "metadata": {
    "collapsed": false
   }
  },
  {
   "cell_type": "code",
   "execution_count": 4,
   "outputs": [
    {
     "data": {
      "text/plain": "State(deck=[34, 23, 15, 5, 16, 10, 20, 8, 38, 6, 39, 0, 7, 30, 11, 22, 28, 36, 19, 24, 33, 4, 29, 3, 9, 1, 31, 18, 21, 26, 14, 27, 37, 13], seen_cards=[], hand_cards={'player_0': [17, 35, 2], 'player_1': [32, 25]}, table_card=12, briscola_card=34, current_agent='player_0', agent_points={'player_0': 0, 'player_1': 0})"
     },
     "execution_count": 4,
     "metadata": {},
     "output_type": "execute_result"
    }
   ],
   "source": [
    "env.state"
   ],
   "metadata": {
    "collapsed": false
   }
  },
  {
   "cell_type": "code",
   "execution_count": 5,
   "outputs": [
    {
     "data": {
      "text/plain": "({'seen_cards': [0,\n   0,\n   0,\n   0,\n   0,\n   0,\n   0,\n   0,\n   0,\n   0,\n   0,\n   0,\n   0,\n   0,\n   0,\n   0,\n   0,\n   0,\n   0,\n   0,\n   0,\n   0,\n   0,\n   0,\n   0,\n   0,\n   0,\n   0,\n   0,\n   0,\n   0,\n   0,\n   0,\n   0,\n   0,\n   0,\n   0,\n   0,\n   0,\n   0],\n  'briscola_card': 34,\n  'table_card': 12,\n  'hand_cards': [17, 35, 2],\n  'agent_points': [0, 0]},\n 0,\n False,\n False,\n {})"
     },
     "execution_count": 5,
     "metadata": {},
     "output_type": "execute_result"
    }
   ],
   "source": [
    "env.last()"
   ],
   "metadata": {
    "collapsed": false
   }
  },
  {
   "cell_type": "code",
   "execution_count": 16,
   "outputs": [
    {
     "data": {
      "text/plain": "1"
     },
     "execution_count": 16,
     "metadata": {},
     "output_type": "execute_result"
    }
   ],
   "source": [
    "len(env.state.hand_cards[\"player_1\"])"
   ],
   "metadata": {
    "collapsed": false
   }
  },
  {
   "cell_type": "code",
   "execution_count": 6,
   "outputs": [
    {
     "data": {
      "text/plain": "Discrete(3)"
     },
     "execution_count": 6,
     "metadata": {},
     "output_type": "execute_result"
    }
   ],
   "source": [
    "env.action_space(\"player_1\")"
   ],
   "metadata": {
    "collapsed": false
   }
  },
  {
   "cell_type": "code",
   "execution_count": 7,
   "outputs": [
    {
     "name": "stdout",
     "output_type": "stream",
     "text": [
      "Starting API test\n"
     ]
    },
    {
     "name": "stderr",
     "output_type": "stream",
     "text": [
      "C:\\Users\\loren\\anaconda3\\lib\\site-packages\\pettingzoo\\test\\api_test.py:60: UserWarning: Observation is not NumPy array\n",
      "  warnings.warn(\"Observation is not NumPy array\")\n",
      "C:\\Users\\loren\\anaconda3\\lib\\site-packages\\pettingzoo\\test\\api_test.py:81: UserWarning: Observation space for each agent probably should be gymnasium.spaces.box or gymnasium.spaces.discrete\n",
      "  warnings.warn(\n"
     ]
    },
    {
     "ename": "IndexError",
     "evalue": "pop index out of range",
     "output_type": "error",
     "traceback": [
      "\u001B[1;31m---------------------------------------------------------------------------\u001B[0m",
      "\u001B[1;31mIndexError\u001B[0m                                Traceback (most recent call last)",
      "\u001B[1;32m~\\AppData\\Local\\Temp\\ipykernel_5292\\1860269525.py\u001B[0m in \u001B[0;36m<module>\u001B[1;34m\u001B[0m\n\u001B[0;32m      1\u001B[0m \u001B[1;32mfrom\u001B[0m \u001B[0mpettingzoo\u001B[0m\u001B[1;33m.\u001B[0m\u001B[0mtest\u001B[0m \u001B[1;32mimport\u001B[0m \u001B[0mapi_test\u001B[0m\u001B[1;33m\u001B[0m\u001B[1;33m\u001B[0m\u001B[0m\n\u001B[0;32m      2\u001B[0m \u001B[0menv\u001B[0m \u001B[1;33m=\u001B[0m \u001B[0mBriscola\u001B[0m\u001B[1;33m(\u001B[0m\u001B[1;33m)\u001B[0m\u001B[1;33m\u001B[0m\u001B[1;33m\u001B[0m\u001B[0m\n\u001B[1;32m----> 3\u001B[1;33m \u001B[0mapi_test\u001B[0m\u001B[1;33m(\u001B[0m\u001B[0menv\u001B[0m\u001B[1;33m,\u001B[0m \u001B[0mnum_cycles\u001B[0m\u001B[1;33m=\u001B[0m\u001B[1;36m1000\u001B[0m\u001B[1;33m,\u001B[0m \u001B[0mverbose_progress\u001B[0m\u001B[1;33m=\u001B[0m\u001B[1;32mFalse\u001B[0m\u001B[1;33m)\u001B[0m\u001B[1;33m\u001B[0m\u001B[1;33m\u001B[0m\u001B[0m\n\u001B[0m",
      "\u001B[1;32m~\\anaconda3\\lib\\site-packages\\pettingzoo\\test\\api_test.py\u001B[0m in \u001B[0;36mapi_test\u001B[1;34m(env, num_cycles, verbose_progress)\u001B[0m\n\u001B[0;32m    406\u001B[0m     \u001B[0mprogress_report\u001B[0m\u001B[1;33m(\u001B[0m\u001B[1;34m\"Finished test_observation_action_spaces\"\u001B[0m\u001B[1;33m)\u001B[0m\u001B[1;33m\u001B[0m\u001B[1;33m\u001B[0m\u001B[0m\n\u001B[0;32m    407\u001B[0m \u001B[1;33m\u001B[0m\u001B[0m\n\u001B[1;32m--> 408\u001B[1;33m     \u001B[0mplay_test\u001B[0m\u001B[1;33m(\u001B[0m\u001B[0menv\u001B[0m\u001B[1;33m,\u001B[0m \u001B[0mobservation_0\u001B[0m\u001B[1;33m,\u001B[0m \u001B[0mnum_cycles\u001B[0m\u001B[1;33m)\u001B[0m\u001B[1;33m\u001B[0m\u001B[1;33m\u001B[0m\u001B[0m\n\u001B[0m\u001B[0;32m    409\u001B[0m \u001B[1;33m\u001B[0m\u001B[0m\n\u001B[0;32m    410\u001B[0m     \u001B[0mprogress_report\u001B[0m\u001B[1;33m(\u001B[0m\u001B[1;34m\"Finished play test\"\u001B[0m\u001B[1;33m)\u001B[0m\u001B[1;33m\u001B[0m\u001B[1;33m\u001B[0m\u001B[0m\n",
      "\u001B[1;32m~\\anaconda3\\lib\\site-packages\\pettingzoo\\test\\api_test.py\u001B[0m in \u001B[0;36mplay_test\u001B[1;34m(env, observation_0, num_cycles)\u001B[0m\n\u001B[0;32m    266\u001B[0m         \u001B[0maccumulated_rewards\u001B[0m\u001B[1;33m[\u001B[0m\u001B[0magent\u001B[0m\u001B[1;33m]\u001B[0m \u001B[1;33m=\u001B[0m \u001B[1;36m0\u001B[0m\u001B[1;33m\u001B[0m\u001B[1;33m\u001B[0m\u001B[0m\n\u001B[0;32m    267\u001B[0m \u001B[1;33m\u001B[0m\u001B[0m\n\u001B[1;32m--> 268\u001B[1;33m         \u001B[0menv\u001B[0m\u001B[1;33m.\u001B[0m\u001B[0mstep\u001B[0m\u001B[1;33m(\u001B[0m\u001B[0maction\u001B[0m\u001B[1;33m)\u001B[0m\u001B[1;33m\u001B[0m\u001B[1;33m\u001B[0m\u001B[0m\n\u001B[0m\u001B[0;32m    269\u001B[0m \u001B[1;33m\u001B[0m\u001B[0m\n\u001B[0;32m    270\u001B[0m         \u001B[1;32mfor\u001B[0m \u001B[0ma\u001B[0m\u001B[1;33m,\u001B[0m \u001B[0mrew\u001B[0m \u001B[1;32min\u001B[0m \u001B[0menv\u001B[0m\u001B[1;33m.\u001B[0m\u001B[0mrewards\u001B[0m\u001B[1;33m.\u001B[0m\u001B[0mitems\u001B[0m\u001B[1;33m(\u001B[0m\u001B[1;33m)\u001B[0m\u001B[1;33m:\u001B[0m\u001B[1;33m\u001B[0m\u001B[1;33m\u001B[0m\u001B[0m\n",
      "\u001B[1;32m~\\Desktop\\rl-thesis\\src\\briscola_env\\two_player_briscola\\Briscola.py\u001B[0m in \u001B[0;36mstep\u001B[1;34m(self, action)\u001B[0m\n\u001B[0;32m    115\u001B[0m \u001B[1;33m\u001B[0m\u001B[0m\n\u001B[0;32m    116\u001B[0m         \u001B[1;32mif\u001B[0m \u001B[0mself\u001B[0m\u001B[1;33m.\u001B[0m\u001B[0mstate\u001B[0m\u001B[1;33m.\u001B[0m\u001B[0mtable_card\u001B[0m \u001B[1;33m==\u001B[0m \u001B[0mConstants\u001B[0m\u001B[1;33m.\u001B[0m\u001B[0mnull_card_number\u001B[0m\u001B[1;33m:\u001B[0m\u001B[1;33m\u001B[0m\u001B[1;33m\u001B[0m\u001B[0m\n\u001B[1;32m--> 117\u001B[1;33m             \u001B[0mself\u001B[0m\u001B[1;33m.\u001B[0m\u001B[0mstate\u001B[0m\u001B[1;33m.\u001B[0m\u001B[0mtable_card\u001B[0m \u001B[1;33m=\u001B[0m \u001B[0mself\u001B[0m\u001B[1;33m.\u001B[0m\u001B[0mstate\u001B[0m\u001B[1;33m.\u001B[0m\u001B[0mpop_card_of_agent\u001B[0m\u001B[1;33m(\u001B[0m\u001B[0mself\u001B[0m\u001B[1;33m.\u001B[0m\u001B[0magent_selection\u001B[0m\u001B[1;33m,\u001B[0m \u001B[0maction\u001B[0m\u001B[1;33m)\u001B[0m\u001B[1;33m\u001B[0m\u001B[1;33m\u001B[0m\u001B[0m\n\u001B[0m\u001B[0;32m    118\u001B[0m             \u001B[0mself\u001B[0m\u001B[1;33m.\u001B[0m\u001B[0mzero_out_reward\u001B[0m\u001B[1;33m(\u001B[0m\u001B[1;33m)\u001B[0m\u001B[1;33m\u001B[0m\u001B[1;33m\u001B[0m\u001B[0m\n\u001B[0;32m    119\u001B[0m         \u001B[1;32melse\u001B[0m\u001B[1;33m:\u001B[0m\u001B[1;33m\u001B[0m\u001B[1;33m\u001B[0m\u001B[0m\n",
      "\u001B[1;32m~\\Desktop\\rl-thesis\\src\\briscola_env\\two_player_briscola\\Briscola.py\u001B[0m in \u001B[0;36mpop_card_of_agent\u001B[1;34m(self, agent, card_index)\u001B[0m\n\u001B[0;32m     34\u001B[0m \u001B[1;33m\u001B[0m\u001B[0m\n\u001B[0;32m     35\u001B[0m     \u001B[1;32mdef\u001B[0m \u001B[0mpop_card_of_agent\u001B[0m\u001B[1;33m(\u001B[0m\u001B[0mself\u001B[0m\u001B[1;33m,\u001B[0m \u001B[0magent\u001B[0m\u001B[1;33m:\u001B[0m \u001B[0mstr\u001B[0m\u001B[1;33m,\u001B[0m \u001B[0mcard_index\u001B[0m\u001B[1;33m:\u001B[0m \u001B[0mint\u001B[0m\u001B[1;33m)\u001B[0m \u001B[1;33m->\u001B[0m \u001B[0mint\u001B[0m\u001B[1;33m:\u001B[0m\u001B[1;33m\u001B[0m\u001B[1;33m\u001B[0m\u001B[0m\n\u001B[1;32m---> 36\u001B[1;33m         \u001B[1;32mreturn\u001B[0m \u001B[0mself\u001B[0m\u001B[1;33m.\u001B[0m\u001B[0mhand_cards\u001B[0m\u001B[1;33m[\u001B[0m\u001B[0magent\u001B[0m\u001B[1;33m]\u001B[0m\u001B[1;33m.\u001B[0m\u001B[0mpop\u001B[0m\u001B[1;33m(\u001B[0m\u001B[0mcard_index\u001B[0m\u001B[1;33m)\u001B[0m\u001B[1;33m\u001B[0m\u001B[1;33m\u001B[0m\u001B[0m\n\u001B[0m\u001B[0;32m     37\u001B[0m \u001B[1;33m\u001B[0m\u001B[0m\n\u001B[0;32m     38\u001B[0m     \u001B[1;32mdef\u001B[0m \u001B[0madd_seen_cards\u001B[0m\u001B[1;33m(\u001B[0m\u001B[0mself\u001B[0m\u001B[1;33m,\u001B[0m \u001B[0mcards\u001B[0m\u001B[1;33m:\u001B[0m \u001B[0mlist\u001B[0m\u001B[1;33m[\u001B[0m\u001B[0mint\u001B[0m\u001B[1;33m]\u001B[0m\u001B[1;33m)\u001B[0m\u001B[1;33m:\u001B[0m\u001B[1;33m\u001B[0m\u001B[1;33m\u001B[0m\u001B[0m\n",
      "\u001B[1;31mIndexError\u001B[0m: pop index out of range"
     ]
    }
   ],
   "source": [
    "from pettingzoo.test import api_test\n",
    "env = Briscola()\n",
    "api_test(env, num_cycles=1000, verbose_progress=False)"
   ],
   "metadata": {
    "collapsed": false
   }
  },
  {
   "cell_type": "code",
   "execution_count": 9,
   "outputs": [
    {
     "data": {
      "text/plain": "Discrete(3)"
     },
     "execution_count": 9,
     "metadata": {},
     "output_type": "execute_result"
    }
   ],
   "source": [
    "env.action_space(\"player_0\")"
   ],
   "metadata": {
    "collapsed": false
   }
  },
  {
   "cell_type": "code",
   "execution_count": 8,
   "outputs": [
    {
     "data": {
      "text/plain": "State(deck=[], seen_cards=[16, 38, 13, 4, 7, 12, 23, 5, 1, 26, 29, 34, 3, 2, 28, 20, 8, 25, 37, 27, 11, 33, 24, 15, 0, 35, 17, 36, 30, 6, 31, 32, 10, 39, 22, 9, 21, 18], hand_cards={'player_0': [19], 'player_1': [14]}, table_card=40, briscola_card=21, current_agent='player_1', agent_points={'player_0': 46, 'player_1': 70})"
     },
     "execution_count": 8,
     "metadata": {},
     "output_type": "execute_result"
    }
   ],
   "source": [
    "env.state"
   ],
   "metadata": {
    "collapsed": false
   }
  },
  {
   "cell_type": "code",
   "execution_count": 5,
   "outputs": [
    {
     "data": {
      "text/plain": "({'seen_cards': [0,\n   0,\n   0,\n   0,\n   0,\n   0,\n   0,\n   0,\n   0,\n   0,\n   0,\n   0,\n   0,\n   0,\n   0,\n   0,\n   0,\n   0,\n   0,\n   0,\n   0,\n   0,\n   0,\n   0,\n   0,\n   0,\n   0,\n   0,\n   0,\n   0,\n   0,\n   0,\n   0,\n   0,\n   0,\n   0,\n   0,\n   0,\n   0,\n   0],\n  'briscola_card': 17,\n  'table_card': 40,\n  'hand_cards': [11, 28, 37],\n  'agent_points': [16, 0]},\n 16,\n False,\n 0,\n {})"
     },
     "execution_count": 5,
     "metadata": {},
     "output_type": "execute_result"
    }
   ],
   "source": [
    "env.last()"
   ],
   "metadata": {
    "collapsed": false
   }
  },
  {
   "cell_type": "code",
   "execution_count": 9,
   "outputs": [
    {
     "data": {
      "text/plain": "{'agent_0': 6, 'agent_1': 0.0}"
     },
     "execution_count": 9,
     "metadata": {},
     "output_type": "execute_result"
    }
   ],
   "source": [],
   "metadata": {
    "collapsed": false
   }
  },
  {
   "cell_type": "code",
   "execution_count": 5,
   "outputs": [
    {
     "data": {
      "text/plain": "Dict('agent_points': MultiDiscrete([120 120]), 'briscola_card': Discrete(41), 'hand_cards': MultiDiscrete([40 40 40]), 'seen_cards': MultiBinary(40), 'table_card': Discrete(41))"
     },
     "execution_count": 5,
     "metadata": {},
     "output_type": "execute_result"
    }
   ],
   "source": [
    "env.observation_space(\"agent_0\")"
   ],
   "metadata": {
    "collapsed": false
   }
  },
  {
   "cell_type": "code",
   "execution_count": 10,
   "outputs": [
    {
     "data": {
      "text/plain": "False"
     },
     "execution_count": 10,
     "metadata": {},
     "output_type": "execute_result"
    }
   ],
   "source": [
    "from gymnasium.vector.utils import spaces\n",
    "space = spaces.Discrete(49)\n",
    "\n",
    "49 in space"
   ],
   "metadata": {
    "collapsed": false
   }
  },
  {
   "cell_type": "code",
   "execution_count": 5,
   "outputs": [
    {
     "name": "stdout",
     "output_type": "stream",
     "text": [
      "1.3564648628234863\n"
     ]
    }
   ],
   "source": [
    "from src.VectorizedBriscola import VectorizedBriscola\n",
    "from time import time\n",
    "\n",
    "start = time()\n",
    "vec_env = VectorizedBriscola(2048)\n",
    "for i in range(30):\n",
    "    a = vec_env.step([0]*2048)\n",
    "print(time() - start)"
   ],
   "metadata": {
    "collapsed": false
   }
  },
  {
   "cell_type": "code",
   "execution_count": null,
   "outputs": [],
   "source": [
    "p1_card, p2_card = Card(34), Card(31)\n",
    "\n",
    "env.get_score(p1_card, p2_card)"
   ],
   "metadata": {
    "collapsed": false
   }
  }
 ],
 "metadata": {
  "kernelspec": {
   "display_name": "Python 3",
   "language": "python",
   "name": "python3"
  },
  "language_info": {
   "codemirror_mode": {
    "name": "ipython",
    "version": 2
   },
   "file_extension": ".py",
   "mimetype": "text/x-python",
   "name": "python",
   "nbconvert_exporter": "python",
   "pygments_lexer": "ipython2",
   "version": "2.7.6"
  }
 },
 "nbformat": 4,
 "nbformat_minor": 0
}
