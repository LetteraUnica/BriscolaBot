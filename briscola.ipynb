{
 "cells": [
  {
   "cell_type": "code",
   "execution_count": 12,
   "outputs": [],
   "source": [
    "from src.agents.RandomAgent import RandomAgent\n",
    "from src.envs.single_player_briscola.SinglePlayerBriscola import SinglePlayerBriscola as Briscola\n",
    "from time import time\n",
    "import gymnasium as gym"
   ],
   "metadata": {
    "collapsed": false
   }
  },
  {
   "cell_type": "code",
   "execution_count": 10,
   "outputs": [
    {
     "name": "stdout",
     "output_type": "stream",
     "text": [
      "0.6377007961273193\n"
     ]
    },
    {
     "data": {
      "text/plain": "1.3987605571746826"
     },
     "execution_count": 10,
     "metadata": {},
     "output_type": "execute_result"
    }
   ],
   "source": [
    "from time import time\n",
    "\n",
    "start = time()\n",
    "envs = []\n",
    "for i in range(1024):\n",
    "    env = Briscola()\n",
    "    env.set_adversary(RandomAgent(3))\n",
    "    envs.append(env)\n",
    "\n",
    "print(time() - start)\n",
    "\n",
    "for i in range(10):\n",
    "    obs = [env.step(0) for env in envs]\n",
    "\n",
    "time() - start"
   ],
   "metadata": {
    "collapsed": false
   }
  },
  {
   "cell_type": "code",
   "execution_count": 21,
   "outputs": [],
   "source": [
    "from gymnasium.vector import SyncVectorEnv\n",
    "\n",
    "def create_env():\n",
    "    env = Briscola()\n",
    "    env.set_adversary(RandomAgent(3))\n",
    "    return env\n",
    "\n",
    "vecenv = SyncVectorEnv([create_env]*1000, copy=False)"
   ],
   "metadata": {
    "collapsed": false
   }
  },
  {
   "cell_type": "code",
   "execution_count": 22,
   "outputs": [
    {
     "data": {
      "text/plain": "0.8743906021118164"
     },
     "execution_count": 22,
     "metadata": {},
     "output_type": "execute_result"
    }
   ],
   "source": [
    "start = time()\n",
    "for i in range(10):\n",
    "    obs = vecenv.step([0]*1000)\n",
    "time() - start"
   ],
   "metadata": {
    "collapsed": false
   }
  }
 ],
 "metadata": {
  "kernelspec": {
   "display_name": "Python 3",
   "language": "python",
   "name": "python3"
  },
  "language_info": {
   "codemirror_mode": {
    "name": "ipython",
    "version": 2
   },
   "file_extension": ".py",
   "mimetype": "text/x-python",
   "name": "python",
   "nbconvert_exporter": "python",
   "pygments_lexer": "ipython2",
   "version": "2.7.6"
  }
 },
 "nbformat": 4,
 "nbformat_minor": 0
}
