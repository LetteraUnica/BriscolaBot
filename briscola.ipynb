{
 "cells": [
  {
   "cell_type": "code",
   "execution_count": 1,
   "outputs": [
    {
     "name": "stdout",
     "output_type": "stream",
     "text": [
      "[0, 0] [1, 0] [[8C, 8D, 8S], [6B, 4D, 9B]]\n",
      "[2, 0] [0, 1] [[8C, 8D, 6S], [6B, 9B, 1S]]\n"
     ]
    }
   ],
   "source": [
    "from src.env.briscola.TwoPlayerBriscola import TwoPlayerBriscola\n",
    "from src.env.briscola.Card import Card\n",
    "\n",
    "env = TwoPlayerBriscola()\n",
    "\n",
    "print(env.state.player_points, env.state.player_order, env.state.player_cards)\n",
    "env.step(1)\n",
    "env.step(2)\n",
    "print(env.state.player_points, env.state.player_order, env.state.player_cards)"
   ],
   "metadata": {
    "collapsed": false
   }
  },
  {
   "cell_type": "code",
   "execution_count": 5,
   "outputs": [
    {
     "name": "stdout",
     "output_type": "stream",
     "text": [
      "1.3564648628234863\n"
     ]
    }
   ],
   "source": [
    "from src.VectorizedBriscola import VectorizedBriscola\n",
    "from time import time\n",
    "\n",
    "start = time()\n",
    "vecenv = VectorizedBriscola(2048)\n",
    "for i in range(30):\n",
    "    a = vecenv.step([0]*2048)\n",
    "print(time() - start)"
   ],
   "metadata": {
    "collapsed": false
   }
  },
  {
   "cell_type": "code",
   "execution_count": null,
   "outputs": [],
   "source": [
    "p1_card, p2_card = Card(34), Card(31)\n",
    "\n",
    "env.get_score(p1_card, p2_card)"
   ],
   "metadata": {
    "collapsed": false
   }
  }
 ],
 "metadata": {
  "kernelspec": {
   "display_name": "Python 3",
   "language": "python",
   "name": "python3"
  },
  "language_info": {
   "codemirror_mode": {
    "name": "ipython",
    "version": 2
   },
   "file_extension": ".py",
   "mimetype": "text/x-python",
   "name": "python",
   "nbconvert_exporter": "python",
   "pygments_lexer": "ipython2",
   "version": "2.7.6"
  }
 },
 "nbformat": 4,
 "nbformat_minor": 0
}
