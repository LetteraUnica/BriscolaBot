{
 "cells": [
  {
   "cell_type": "code",
   "execution_count": 1,
   "metadata": {},
   "outputs": [],
   "source": [
    "import pandas as pd\n",
    "import polars as pl\n",
    "import pylab as plt\n",
    "import numpy as np\n",
    "\n",
    "import seaborn as sns\n",
    "sns.set_style('white')\n",
    "from scipy.stats import beta"
   ]
  },
  {
   "cell_type": "code",
   "execution_count": 2,
   "metadata": {},
   "outputs": [],
   "source": [
    "data = pl.read_csv(\"ai_scores.csv\")\n",
    "\n",
    "data = data.select([\n",
    "    pl.col(\"Opponent\"),\n",
    "    (pl.col(\"Won\") + pl.col(\"Lost\")).alias(\"Games_played\"),\n",
    "    pl.all().exclude(\"Opponent\")\n",
    "    ])"
   ]
  },
  {
   "cell_type": "code",
   "execution_count": 3,
   "metadata": {},
   "outputs": [],
   "source": [
    "others = (data\n",
    "          .filter(pl.col(\"Games_played\") <= 5)\n",
    "          .sum()\n",
    "          .with_columns([\n",
    "              pl.lit(\"NA\").alias(\"Player Skill\"),\n",
    "              pl.lit(\"Others\").alias(\"Opponent\")\n",
    "              ])\n",
    "          )\n",
    "\n",
    "grouped = (data\n",
    "           .groupby(\"Player Skill\")\n",
    "           .agg([\n",
    "                pl.sum(\"Games_played\"),\n",
    "                pl.sum(\"Won\"),\n",
    "                pl.sum(\"Lost\")\n",
    "                ])\n",
    "           .select([\n",
    "               pl.col(\"Player Skill\").alias(\"Opponent\"),\n",
    "               pl.all().exclude(\"Player Skill\"),\n",
    "               pl.col(\"Player Skill\")\n",
    "               ])\n",
    "           ).sort(\"Opponent\")\n",
    "\n",
    "total = (data\n",
    "         .sum()\n",
    "         .with_columns([\n",
    "              pl.lit(\"NA\").alias(\"Player Skill\"),\n",
    "              pl.lit(\"Total\").alias(\"Opponent\")\n",
    "         ])\n",
    ")"
   ]
  },
  {
   "cell_type": "code",
   "execution_count": 4,
   "metadata": {},
   "outputs": [],
   "source": [
    "data = data.filter(pl.col(\"Games_played\") > 5).sort(\"Opponent\")"
   ]
  },
  {
   "cell_type": "code",
   "execution_count": 5,
   "metadata": {},
   "outputs": [
    {
     "data": {
      "text/html": [
       "<div><style>\n",
       ".dataframe > thead > tr > th,\n",
       ".dataframe > tbody > tr > td {\n",
       "  text-align: right;\n",
       "}\n",
       "</style>\n",
       "<small>shape: (13, 5)</small><table border=\"1\" class=\"dataframe\"><thead><tr><th>Opponent</th><th>Games_played</th><th>Won</th><th>Lost</th><th>Player Skill</th></tr><tr><td>str</td><td>i64</td><td>i64</td><td>i64</td><td>str</td></tr></thead><tbody><tr><td>&quot;Alessandro&quot;</td><td>25</td><td>17</td><td>8</td><td>&quot;Intermediate&quot;</td></tr><tr><td>&quot;Daniel&quot;</td><td>10</td><td>8</td><td>2</td><td>&quot;Intermediate&quot;</td></tr><tr><td>&quot;Giacomo A.&quot;</td><td>18</td><td>10</td><td>8</td><td>&quot;Expert&quot;</td></tr><tr><td>&quot;Giacomo C.&quot;</td><td>14</td><td>10</td><td>4</td><td>&quot;Beginner&quot;</td></tr><tr><td>&quot;Me&quot;</td><td>16</td><td>10</td><td>6</td><td>&quot;Intermediate&quot;</td></tr><tr><td>&quot;Silvio&quot;</td><td>23</td><td>11</td><td>12</td><td>&quot;Expert&quot;</td></tr><tr><td>&quot;Simone&quot;</td><td>39</td><td>20</td><td>19</td><td>&quot;Expert&quot;</td></tr><tr><td>&quot;Teresa&quot;</td><td>13</td><td>7</td><td>6</td><td>&quot;Expert&quot;</td></tr><tr><td>&quot;Others&quot;</td><td>12</td><td>7</td><td>5</td><td>&quot;NA&quot;</td></tr><tr><td>&quot;Beginner&quot;</td><td>14</td><td>10</td><td>4</td><td>&quot;Beginner&quot;</td></tr><tr><td>&quot;Expert&quot;</td><td>93</td><td>48</td><td>45</td><td>&quot;Expert&quot;</td></tr><tr><td>&quot;Intermediate&quot;</td><td>63</td><td>42</td><td>21</td><td>&quot;Intermediate&quot;</td></tr><tr><td>&quot;Total&quot;</td><td>170</td><td>100</td><td>70</td><td>&quot;NA&quot;</td></tr></tbody></table></div>"
      ],
      "text/plain": [
       "shape: (13, 5)\n",
       "┌──────────────┬──────────────┬─────┬──────┬──────────────┐\n",
       "│ Opponent     ┆ Games_played ┆ Won ┆ Lost ┆ Player Skill │\n",
       "│ ---          ┆ ---          ┆ --- ┆ ---  ┆ ---          │\n",
       "│ str          ┆ i64          ┆ i64 ┆ i64  ┆ str          │\n",
       "╞══════════════╪══════════════╪═════╪══════╪══════════════╡\n",
       "│ Alessandro   ┆ 25           ┆ 17  ┆ 8    ┆ Intermediate │\n",
       "│ Daniel       ┆ 10           ┆ 8   ┆ 2    ┆ Intermediate │\n",
       "│ Giacomo A.   ┆ 18           ┆ 10  ┆ 8    ┆ Expert       │\n",
       "│ Giacomo C.   ┆ 14           ┆ 10  ┆ 4    ┆ Beginner     │\n",
       "│ …            ┆ …            ┆ …   ┆ …    ┆ …            │\n",
       "│ Beginner     ┆ 14           ┆ 10  ┆ 4    ┆ Beginner     │\n",
       "│ Expert       ┆ 93           ┆ 48  ┆ 45   ┆ Expert       │\n",
       "│ Intermediate ┆ 63           ┆ 42  ┆ 21   ┆ Intermediate │\n",
       "│ Total        ┆ 170          ┆ 100 ┆ 70   ┆ NA           │\n",
       "└──────────────┴──────────────┴─────┴──────┴──────────────┘"
      ]
     },
     "execution_count": 5,
     "metadata": {},
     "output_type": "execute_result"
    }
   ],
   "source": [
    "data.extend(others).extend(grouped).extend(total)"
   ]
  },
  {
   "cell_type": "code",
   "execution_count": 6,
   "metadata": {},
   "outputs": [],
   "source": [
    "# Compute win rate\n",
    "data = data.with_columns(\n",
    "    (pl.col(\"Won\") / pl.col(\"Games_played\")).alias(\"Win_rate\")\n",
    "    )"
   ]
  },
  {
   "cell_type": "code",
   "execution_count": 7,
   "metadata": {},
   "outputs": [],
   "source": [
    "def compute_confidence_interval(games_played, n_wins, confidence=0.9):\n",
    "    rv = beta(n_wins+1, games_played-n_wins+1)\n",
    "    l, u = rv.interval(confidence)\n",
    "    return f\"{l:.2f} - {u:.2f}\"\n",
    "\n",
    "data = data.with_columns(\n",
    "    data.select([pl.col(\"Games_played\"), pl.col(\"Won\")])\n",
    "    .apply(lambda r: compute_confidence_interval(r[0], r[1]))\n",
    "    .select(pl.col(\"apply\").alias(\"90% CI\"))\n",
    "    )"
   ]
  },
  {
   "cell_type": "code",
   "execution_count": null,
   "metadata": {},
   "outputs": [],
   "source": [
    "(\n",
    "    data.select(\n",
    "    pl.all().exclude(\"Player Skill\"),\n",
    "    pl.col(\"Player Skill\")\n",
    "    )\n",
    "    .to_pandas()\n",
    "    .to_latex(\n",
    "        buf=\"thesis/chapters/original-work/player-scores.tex\",\n",
    "        index=False,\n",
    "        float_format=\"%.2f\"\n",
    "    )\n",
    ")"
   ]
  },
  {
   "cell_type": "code",
   "execution_count": null,
   "metadata": {},
   "outputs": [
    {
     "data": {
      "image/png": "[encoded data removed]",
      "text/plain": [
       "<Figure size 432x288 with 1 Axes>"
      ]
     },
     "metadata": {},
     "output_type": "display_data"
    }
   ],
   "source": [
    "error = np.stack(data[\"90% CI\"].str.split(\" - \").to_numpy()).astype(float) - data[\"Win_rate\"].to_numpy().reshape(-1, 1)\n",
    "plt.bar(data[\"Opponent\"], data[\"Win_rate\"], yerr=np.abs(error).T, ecolor=\"dimgray\")\n",
    "# Line at 50%\n",
    "plt.axhline(0.5, color=\"black\", linestyle=\"--\")\n",
    "plt.xticks(rotation=90)\n",
    "plt.ylabel(\"Win rate\")\n",
    "plt.xlabel(\"Opponent\")\n",
    "\n",
    "plt.savefig(\"player-scores.svg\", bbox_inches=\"tight\")"
   ]
  }
 ],
 "metadata": {
  "kernelspec": {
   "display_name": "base",
   "language": "python",
   "name": "python3"
  },
  "language_info": {
   "codemirror_mode": {
    "name": "ipython",
    "version": 3
   },
   "file_extension": ".py",
   "mimetype": "text/x-python",
   "name": "python",
   "nbconvert_exporter": "python",
   "pygments_lexer": "ipython3",
   "version": "3.10.8"
  },
  "orig_nbformat": 4,
  "vscode": {
   "interpreter": {
    "hash": "f38bca3c9600444284abf86780be38c386e032d708dbe2e8970d98e9b2d0aa36"
   }
  }
 },
 "nbformat": 4,
 "nbformat_minor": 2
}
